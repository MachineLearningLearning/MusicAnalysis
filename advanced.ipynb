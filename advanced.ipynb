{
 "cells": [
  {
   "cell_type": "code",
   "execution_count": 5,
   "id": "81b27133",
   "metadata": {},
   "outputs": [],
   "source": [
    "#importing the keras modules\n",
    "from keras.models import Sequential\n",
    "from keras.layers import Dense, Dropout, Conv2D, MaxPooling2D, Flatten, GRU\n",
    "from keras.callbacks import Callback, EarlyStopping\n",
    "# numpy for loading data\n",
    "import numpy as np"
   ]
  },
  {
   "cell_type": "code",
   "execution_count": 6,
   "id": "a4b0bdf9",
   "metadata": {},
   "outputs": [],
   "source": [
    "# load in computed data\n",
    "X = np.load(\"data_computed/X_train.npy\")\n",
    "Y = np.load(\"data_computed/Y_train.npy\")"
   ]
  },
  {
   "cell_type": "code",
   "execution_count": 4,
   "id": "e13e23f8",
   "metadata": {},
   "outputs": [
    {
     "ename": "NameError",
     "evalue": "name 'X_train' is not defined",
     "output_type": "error",
     "traceback": [
      "\u001b[1;31m---------------------------------------------------------------------------\u001b[0m",
      "\u001b[1;31mNameError\u001b[0m                                 Traceback (most recent call last)",
      "Input \u001b[1;32mIn [4]\u001b[0m, in \u001b[0;36m<cell line: 5>\u001b[1;34m()\u001b[0m\n\u001b[0;32m      2\u001b[0m model \u001b[38;5;241m=\u001b[39m Sequential()\n\u001b[0;32m      4\u001b[0m \u001b[38;5;66;03m#Adding the CNN layers along with some drop outs and maxpooling\u001b[39;00m\n\u001b[1;32m----> 5\u001b[0m model\u001b[38;5;241m.\u001b[39madd(Conv2D(\u001b[38;5;241m64\u001b[39m, \u001b[38;5;241m2\u001b[39m, activation \u001b[38;5;241m=\u001b[39m \u001b[38;5;124m'\u001b[39m\u001b[38;5;124mrelu\u001b[39m\u001b[38;5;124m'\u001b[39m, input_shape \u001b[38;5;241m=\u001b[39m (\u001b[43mX_train\u001b[49m\u001b[38;5;241m.\u001b[39mshape[\u001b[38;5;241m1\u001b[39m:])))\n\u001b[0;32m      6\u001b[0m model\u001b[38;5;241m.\u001b[39madd(MaxPooling2D(pool_size \u001b[38;5;241m=\u001b[39m (\u001b[38;5;241m2\u001b[39m,\u001b[38;5;241m2\u001b[39m)))\n\u001b[0;32m      7\u001b[0m model\u001b[38;5;241m.\u001b[39madd(Dropout(\u001b[38;5;241m0.1\u001b[39m))\n",
      "\u001b[1;31mNameError\u001b[0m: name 'X_train' is not defined"
     ]
    }
   ],
   "source": [
    "#Initiating the model as Sequential\n",
    "model = Sequential()\n",
    "\n",
    "# Adding the CNN layers along with some drop outs and maxpooling\n",
    "# This is currently the model from the guide, we can modify and experiment tho\n",
    "model.add(Conv2D(64, 2, activation = 'relu', input_shape = (X_train.shape[1:])))\n",
    "model.add(MaxPooling2D(pool_size = (2,2)))\n",
    "model.add(Dropout(0.1))\n",
    "model.add(Conv2D(128, 2, activation = 'relu'))\n",
    "model.add(MaxPooling2D(pool_size = (2,2)))\n",
    "model.add(Dropout(0.1))\n",
    "model.add(Conv2D(256, 2, activation = 'relu'))\n",
    "model.add(MaxPooling2D(pool_size = (4,4)))\n",
    "model.add(Dropout(0.1))\n",
    "model.add(Conv2D(512, 2, activation = 'relu'))\n",
    "model.add(MaxPooling2D(pool_size = (8,8)))\n",
    "model.add(Dropout(0.1))\n",
    "\n",
    "#flattening the data to be passed to a dense layer\n",
    "model.add(Flatten())\n",
    "\n",
    "#Adding the dense layers\n",
    "model.add(Dense(2048, activation = 'relu'))\n",
    "model.add(Dense(1024, activation = 'relu'))\n",
    "model.add(Dense(256, activation = 'relu'))\n",
    "\n",
    "#final output layer with 10 predictions to be made\n",
    "model.add(Dense(10, activation = 'softmax'))"
   ]
  }
 ],
 "metadata": {
  "kernelspec": {
   "display_name": "Python 3 (ipykernel)",
   "language": "python",
   "name": "python3"
  },
  "language_info": {
   "codemirror_mode": {
    "name": "ipython",
    "version": 3
   },
   "file_extension": ".py",
   "mimetype": "text/x-python",
   "name": "python",
   "nbconvert_exporter": "python",
   "pygments_lexer": "ipython3",
   "version": "3.9.12"
  }
 },
 "nbformat": 4,
 "nbformat_minor": 5
}
