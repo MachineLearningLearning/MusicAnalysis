{
 "cells": [
  {
   "cell_type": "code",
   "execution_count": 1,
   "id": "81b27133",
   "metadata": {},
   "outputs": [],
   "source": [
    "# import keras for model creation\n",
    "from keras.models import Sequential\n",
    "from keras.layers import Dense, Dropout, Conv2D, MaxPooling2D, Flatten, GRU\n",
    "from keras.callbacks import Callback, EarlyStopping\n",
    "from tensorflow.keras.callbacks import ModelCheckpoint\n",
    "# sklearn for labeling data\n",
    "from sklearn.preprocessing import LabelEncoder\n",
    "# numpy for loading data\n",
    "import numpy as np"
   ]
  },
  {
   "cell_type": "code",
   "execution_count": 2,
   "id": "48ac80de",
   "metadata": {},
   "outputs": [],
   "source": [
    "# load in computed training data\n",
    "X_train_data = np.load(\"data_computed/X_train.npy\")\n",
    "Y_train_data = np.load(\"data_computed/Y_train.npy\")\n",
    "# load in computed testing data\n",
    "X_test_data = np.load(\"data_computed/X_test.npy\")\n",
    "Y_test_data = np.load(\"data_computed/Y_test.npy\")"
   ]
  },
  {
   "cell_type": "code",
   "execution_count": 3,
   "id": "4d05eb75",
   "metadata": {},
   "outputs": [],
   "source": [
    "# reshape data for CNN\n",
    "X_train_data = X_train_data.reshape(X_train_data.shape[0],X_train_data.shape[1],X_train_data.shape[2],1)\n",
    "X_test_data = X_test_data.reshape(X_test_data.shape[0],X_test_data.shape[1],X_test_data.shape[2],1)"
   ]
  },
  {
   "cell_type": "code",
   "execution_count": 4,
   "id": "93495e80",
   "metadata": {},
   "outputs": [],
   "source": [
    "# encode labels\n",
    "encoder = LabelEncoder()\n",
    "encoder.fit(Y_train_data)\n",
    "Y_train_data = encoder.transform(Y_train_data).reshape([len(Y_train_data), 1])\n",
    "encoder = LabelEncoder()\n",
    "encoder.fit(Y_test_data)\n",
    "Y_test_data = encoder.transform(Y_test_data).reshape([len(Y_test_data), 1])"
   ]
  },
  {
   "cell_type": "markdown",
   "id": "5d43e107",
   "metadata": {},
   "source": [
    "## Create the model"
   ]
  },
  {
   "cell_type": "code",
   "execution_count": 5,
   "id": "e13e23f8",
   "metadata": {},
   "outputs": [],
   "source": [
    "# IMPORTANT: this code was partially taken from a blog online:\n",
    "# https://medium.com/analytics-vidhya/music-classification-using-deep-learning-python-b22614adb7a2\n",
    "\n",
    "# Initiating the model as Sequential\n",
    "model = Sequential()\n",
    "\n",
    "# Adding the CNN layers along with some drop outs and maxpooling\n",
    "model.add(Conv2D(64, 2, activation = 'relu', input_shape = (X_train_data.shape[1:])))\n",
    "model.add(MaxPooling2D(pool_size = (2,2)))\n",
    "model.add(Dropout(0.1))\n",
    "model.add(Conv2D(128, 2, activation = 'relu'))\n",
    "model.add(MaxPooling2D(pool_size = (2,2)))\n",
    "model.add(Dropout(0.1))\n",
    "model.add(Conv2D(256, 2, activation = 'relu'))\n",
    "model.add(MaxPooling2D(pool_size = (4,4)))\n",
    "model.add(Dropout(0.1))\n",
    "model.add(Conv2D(512, 2, activation = 'relu'))\n",
    "model.add(MaxPooling2D(pool_size = (6,6)))\n",
    "model.add(Dropout(0.1))\n",
    "\n",
    "# flattening the data to be passed to a dense layer\n",
    "model.add(Flatten())\n",
    "\n",
    "# Adding the dense layers\n",
    "model.add(Dense(2048, activation = 'relu'))\n",
    "model.add(Dense(1024, activation = 'relu'))\n",
    "model.add(Dense(256, activation = 'relu'))\n",
    "\n",
    "# final output layer with 10 predictions to be made\n",
    "model.add(Dense(10, activation = 'softmax'))\n",
    "\n",
    "# compile the model\n",
    "# using adam as optimizer for learning rate\n",
    "# using sparse categorical crossentropy as loss\n",
    "model.compile(optimizer='adam', loss='sparse_categorical_crossentropy', metrics=['accuracy'])\n"
   ]
  },
  {
   "cell_type": "markdown",
   "id": "b86e891c",
   "metadata": {},
   "source": [
    "## Training"
   ]
  },
  {
   "cell_type": "code",
   "execution_count": 14,
   "id": "b3c1d70b",
   "metadata": {},
   "outputs": [],
   "source": [
    "# initialise saving model to disk\n",
    "num_epochs = 50\n",
    "checkpoint_filepath = 'models/model.h5'\n",
    "model_checkpoint_callback = ModelCheckpoint(\n",
    "    filepath=checkpoint_filepath,\n",
    "    save_weights_only=True,\n",
    "    monitor='val_accuracy',\n",
    "    mode='max',\n",
    "    save_best_only=True)"
   ]
  },
  {
   "cell_type": "code",
   "execution_count": 15,
   "id": "25c91b68",
   "metadata": {},
   "outputs": [
    {
     "name": "stdout",
     "output_type": "stream",
     "text": [
      "Epoch 1/10\n",
      "7/7 [==============================] - 54s 8s/step - loss: 2.3030 - accuracy: 0.1100 - val_loss: 2.3019 - val_accuracy: 0.1150\n",
      "Epoch 2/10\n",
      "7/7 [==============================] - 59s 9s/step - loss: 2.3015 - accuracy: 0.1100 - val_loss: 2.3005 - val_accuracy: 0.1450\n",
      "Epoch 3/10\n",
      "7/7 [==============================] - 59s 9s/step - loss: 2.3003 - accuracy: 0.1450 - val_loss: 2.2988 - val_accuracy: 0.1450\n",
      "Epoch 4/10\n",
      "7/7 [==============================] - 60s 9s/step - loss: 2.2983 - accuracy: 0.1450 - val_loss: 2.2970 - val_accuracy: 0.1450\n",
      "Epoch 5/10\n",
      "7/7 [==============================] - 61s 9s/step - loss: 2.2964 - accuracy: 0.1450 - val_loss: 2.2943 - val_accuracy: 0.1450\n",
      "Epoch 6/10\n",
      "7/7 [==============================] - 61s 9s/step - loss: 2.2935 - accuracy: 0.1450 - val_loss: 2.2912 - val_accuracy: 0.1450\n",
      "Epoch 7/10\n",
      "7/7 [==============================] - 61s 9s/step - loss: 2.2902 - accuracy: 0.1450 - val_loss: 2.2875 - val_accuracy: 0.1450\n",
      "Epoch 8/10\n",
      "7/7 [==============================] - 61s 9s/step - loss: 2.2868 - accuracy: 0.1450 - val_loss: 2.2837 - val_accuracy: 0.1450\n",
      "Epoch 9/10\n",
      "7/7 [==============================] - 64s 9s/step - loss: 2.2829 - accuracy: 0.1450 - val_loss: 2.2804 - val_accuracy: 0.1450\n",
      "Epoch 10/10\n",
      "7/7 [==============================] - 64s 9s/step - loss: 2.2800 - accuracy: 0.1450 - val_loss: 2.2768 - val_accuracy: 0.1450\n"
     ]
    }
   ],
   "source": [
    "# start training\n",
    "history = model.fit(X_train_data, Y_train_data, validation_data=(X_test_data, Y_test_data),\n",
    "                    epochs=num_epochs, callbacks=[model_checkpoint_callback])"
   ]
  }
 ],
 "metadata": {
  "kernelspec": {
   "display_name": "Python 3 (ipykernel)",
   "language": "python",
   "name": "python3"
  },
  "language_info": {
   "codemirror_mode": {
    "name": "ipython",
    "version": 3
   },
   "file_extension": ".py",
   "mimetype": "text/x-python",
   "name": "python",
   "nbconvert_exporter": "python",
   "pygments_lexer": "ipython3",
   "version": "3.9.12"
  }
 },
 "nbformat": 4,
 "nbformat_minor": 5
}
