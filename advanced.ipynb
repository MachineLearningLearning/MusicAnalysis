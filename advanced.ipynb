{
 "cells": [
  {
   "cell_type": "code",
   "execution_count": 7,
   "id": "81b27133",
   "metadata": {},
   "outputs": [],
   "source": [
    "# import keras for model creation\n",
    "from keras.models import Sequential\n",
    "from keras.layers import Dense, Dropout, Conv2D, MaxPooling2D, Flatten, GRU\n",
    "from keras.callbacks import Callback, EarlyStopping\n",
    "# numpy for loading data\n",
    "import numpy as np"
   ]
  },
  {
   "cell_type": "code",
   "execution_count": 37,
   "id": "e7e91385",
   "metadata": {},
   "outputs": [],
   "source": [
    "# load in computed training data\n",
    "X_train_data = np.load(\"data_computed/X_train.npy\")\n",
    "Y_train_data = np.load(\"data_computed/Y_train.npy\")\n",
    "# load in computed testing data\n",
    "X_test_data = np.load(\"data_computed/X_test.npy\")\n",
    "Y_test_data = np.load(\"data_computed/Y_test.npy\")"
   ]
  },
  {
   "cell_type": "code",
   "execution_count": 41,
   "id": "0a7c0d2e",
   "metadata": {},
   "outputs": [],
   "source": [
    "# reshape data for CNN\n",
    "X_train_data = X_train_data.reshape(X_train_data.shape[0],X_train_data.shape[1],X_train_data.shape[2],1)\n",
    "X_test_data = X_test_data.reshape(X_test_data.shape[0],X_test_data.shape[1],X_test_data.shape[2],1)"
   ]
  },
  {
   "cell_type": "markdown",
   "id": "1bbf40cc",
   "metadata": {},
   "source": [
    "## Create the model"
   ]
  },
  {
   "cell_type": "code",
   "execution_count": 45,
   "id": "e13e23f8",
   "metadata": {},
   "outputs": [],
   "source": [
    "#Initiating the model as Sequential\n",
    "model = Sequential()\n",
    "\n",
    "# Adding the CNN layers along with some drop outs and maxpooling\n",
    "# This is currently the model from the guide, we can modify and experiment tho\n",
    "model.add(Conv2D(64, 2, activation = 'relu', input_shape = (X_train_data.shape[1:])))\n",
    "model.add(MaxPooling2D(pool_size = (2,2)))\n",
    "model.add(Dropout(0.1))\n",
    "model.add(Conv2D(128, 2, activation = 'relu'))\n",
    "model.add(MaxPooling2D(pool_size = (2,2)))\n",
    "model.add(Dropout(0.1))\n",
    "model.add(Conv2D(256, 2, activation = 'relu'))\n",
    "model.add(MaxPooling2D(pool_size = (4,4)))\n",
    "model.add(Dropout(0.1))\n",
    "model.add(Conv2D(512, 2, activation = 'relu'))\n",
    "model.add(MaxPooling2D(pool_size = (6,6)))\n",
    "model.add(Dropout(0.1))\n",
    "\n",
    "#flattening the data to be passed to a dense layer\n",
    "model.add(Flatten())\n",
    "\n",
    "#Adding the dense layers\n",
    "model.add(Dense(2048, activation = 'relu'))\n",
    "model.add(Dense(1024, activation = 'relu'))\n",
    "model.add(Dense(256, activation = 'relu'))\n",
    "\n",
    "#final output layer with 10 predictions to be made\n",
    "model.add(Dense(10, activation = 'softmax'))\n",
    "\n",
    "# add in the optimizer (using adam)\n",
    "model.compile(optimizer='adam', loss='sparse_categorical_crossentropy', metrics=['accuracy'])\n"
   ]
  }
 ],
 "metadata": {
  "kernelspec": {
   "display_name": "Python 3 (ipykernel)",
   "language": "python",
   "name": "python3"
  },
  "language_info": {
   "codemirror_mode": {
    "name": "ipython",
    "version": 3
   },
   "file_extension": ".py",
   "mimetype": "text/x-python",
   "name": "python",
   "nbconvert_exporter": "python",
   "pygments_lexer": "ipython3",
   "version": "3.9.12"
  }
 },
 "nbformat": 4,
 "nbformat_minor": 5
}
